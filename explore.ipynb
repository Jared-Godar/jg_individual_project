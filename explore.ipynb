{
 "cells": [
  {
   "cell_type": "markdown",
   "metadata": {},
   "source": [
    "Time series data of COVID PCR test results across US"
   ]
  },
  {
   "cell_type": "code",
   "execution_count": 30,
   "metadata": {},
   "outputs": [],
   "source": [
    "import pandas as pd\n",
    "from datetime import timedelta, datetime\n",
    "import numpy as np\n",
    "import matplotlib.pyplot as plt\n",
    "import seaborn as sns\n",
    "import statsmodels.api as sm\n",
    "\n",
    "import warnings\n",
    "warnings.filterwarnings(\"ignore\")\n",
    "\n",
    "\n",
    "# plotting defaults\n",
    "plt.rc('figure', figsize=(13, 7))\n",
    "plt.style.use('seaborn-whitegrid')\n",
    "plt.rc('font', size=16)"
   ]
  },
  {
   "cell_type": "code",
   "execution_count": 31,
   "metadata": {},
   "outputs": [],
   "source": [
    "df=pd.read_csv('covid_pcr_results_200114.csv')"
   ]
  },
  {
   "cell_type": "code",
   "execution_count": 32,
   "metadata": {},
   "outputs": [
    {
     "data": {
      "text/plain": [
       "(110691, 9)"
      ]
     },
     "execution_count": 32,
     "metadata": {},
     "output_type": "execute_result"
    }
   ],
   "source": [
    "df.shape"
   ]
  },
  {
   "cell_type": "code",
   "execution_count": 33,
   "metadata": {},
   "outputs": [
    {
     "data": {
      "text/html": [
       "<div><div id=e4f31b3f-0648-448b-abd4-180f4bfaefcc style=\"display:none; background-color:#9D6CFF; color:white; width:200px; height:30px; padding-left:5px; border-radius:4px; flex-direction:row; justify-content:space-around; align-items:center;\" onmouseover=\"this.style.backgroundColor='#BA9BF8'\" onmouseout=\"this.style.backgroundColor='#9D6CFF'\" onclick=\"window.commands?.execute('create-mitosheet-from-dataframe-output');\">See Full Dataframe in Mito</div> <script> if (window.commands.hasCommand('create-mitosheet-from-dataframe-output')) document.getElementById('e4f31b3f-0648-448b-abd4-180f4bfaefcc').style.display = 'flex' </script> <table border=\"1\" class=\"dataframe\">\n",
       "  <thead>\n",
       "    <tr style=\"text-align: right;\">\n",
       "      <th></th>\n",
       "      <th>state</th>\n",
       "      <th>state_name</th>\n",
       "      <th>state_fips</th>\n",
       "      <th>fema_region</th>\n",
       "      <th>overall_outcome</th>\n",
       "      <th>date</th>\n",
       "      <th>new_results_reported</th>\n",
       "      <th>total_results_reported</th>\n",
       "      <th>geocoded_state</th>\n",
       "    </tr>\n",
       "  </thead>\n",
       "  <tbody>\n",
       "    <tr>\n",
       "      <th>0</th>\n",
       "      <td>AL</td>\n",
       "      <td>Alabama</td>\n",
       "      <td>1</td>\n",
       "      <td>Region 4</td>\n",
       "      <td>Negative</td>\n",
       "      <td>2020/03/01</td>\n",
       "      <td>96</td>\n",
       "      <td>96</td>\n",
       "      <td>NaN</td>\n",
       "    </tr>\n",
       "    <tr>\n",
       "      <th>1</th>\n",
       "      <td>AL</td>\n",
       "      <td>Alabama</td>\n",
       "      <td>1</td>\n",
       "      <td>Region 4</td>\n",
       "      <td>Positive</td>\n",
       "      <td>2020/03/01</td>\n",
       "      <td>16</td>\n",
       "      <td>16</td>\n",
       "      <td>NaN</td>\n",
       "    </tr>\n",
       "    <tr>\n",
       "      <th>2</th>\n",
       "      <td>AL</td>\n",
       "      <td>Alabama</td>\n",
       "      <td>1</td>\n",
       "      <td>Region 4</td>\n",
       "      <td>Negative</td>\n",
       "      <td>2020/03/02</td>\n",
       "      <td>72</td>\n",
       "      <td>168</td>\n",
       "      <td>NaN</td>\n",
       "    </tr>\n",
       "    <tr>\n",
       "      <th>3</th>\n",
       "      <td>AL</td>\n",
       "      <td>Alabama</td>\n",
       "      <td>1</td>\n",
       "      <td>Region 4</td>\n",
       "      <td>Positive</td>\n",
       "      <td>2020/03/02</td>\n",
       "      <td>6</td>\n",
       "      <td>22</td>\n",
       "      <td>NaN</td>\n",
       "    </tr>\n",
       "    <tr>\n",
       "      <th>4</th>\n",
       "      <td>AL</td>\n",
       "      <td>Alabama</td>\n",
       "      <td>1</td>\n",
       "      <td>Region 4</td>\n",
       "      <td>Negative</td>\n",
       "      <td>2020/03/03</td>\n",
       "      <td>94</td>\n",
       "      <td>262</td>\n",
       "      <td>NaN</td>\n",
       "    </tr>\n",
       "  </tbody>\n",
       "</table></div>"
      ],
      "text/plain": [
       "  state state_name  state_fips fema_region overall_outcome        date  \\\n",
       "0    AL    Alabama           1    Region 4        Negative  2020/03/01   \n",
       "1    AL    Alabama           1    Region 4        Positive  2020/03/01   \n",
       "2    AL    Alabama           1    Region 4        Negative  2020/03/02   \n",
       "3    AL    Alabama           1    Region 4        Positive  2020/03/02   \n",
       "4    AL    Alabama           1    Region 4        Negative  2020/03/03   \n",
       "\n",
       "   new_results_reported  total_results_reported  geocoded_state  \n",
       "0                    96                      96             NaN  \n",
       "1                    16                      16             NaN  \n",
       "2                    72                     168             NaN  \n",
       "3                     6                      22             NaN  \n",
       "4                    94                     262             NaN  "
      ]
     },
     "execution_count": 33,
     "metadata": {},
     "output_type": "execute_result"
    }
   ],
   "source": [
    "df.head()"
   ]
  },
  {
   "cell_type": "code",
   "execution_count": 34,
   "metadata": {},
   "outputs": [
    {
     "data": {
      "text/plain": [
       "state                      object\n",
       "state_name                 object\n",
       "state_fips                  int64\n",
       "fema_region                object\n",
       "overall_outcome            object\n",
       "date                       object\n",
       "new_results_reported        int64\n",
       "total_results_reported      int64\n",
       "geocoded_state            float64\n",
       "dtype: object"
      ]
     },
     "execution_count": 34,
     "metadata": {},
     "output_type": "execute_result"
    }
   ],
   "source": [
    "df.dtypes"
   ]
  },
  {
   "cell_type": "code",
   "execution_count": 35,
   "metadata": {},
   "outputs": [],
   "source": [
    "# Made date date and reindex\n",
    "df.date = pd.to_datetime(df.date)\n",
    "df = df.set_index('date').sort_index()"
   ]
  },
  {
   "cell_type": "code",
   "execution_count": 36,
   "metadata": {},
   "outputs": [
    {
     "data": {
      "text/html": [
       "<div><div id=056f21c7-28c7-42eb-9322-d1b0169eb454 style=\"display:none; background-color:#9D6CFF; color:white; width:200px; height:30px; padding-left:5px; border-radius:4px; flex-direction:row; justify-content:space-around; align-items:center;\" onmouseover=\"this.style.backgroundColor='#BA9BF8'\" onmouseout=\"this.style.backgroundColor='#9D6CFF'\" onclick=\"window.commands?.execute('create-mitosheet-from-dataframe-output');\">See Full Dataframe in Mito</div> <script> if (window.commands.hasCommand('create-mitosheet-from-dataframe-output')) document.getElementById('056f21c7-28c7-42eb-9322-d1b0169eb454').style.display = 'flex' </script> <table border=\"1\" class=\"dataframe\">\n",
       "  <thead>\n",
       "    <tr style=\"text-align: right;\">\n",
       "      <th></th>\n",
       "      <th>state</th>\n",
       "      <th>state_name</th>\n",
       "      <th>state_fips</th>\n",
       "      <th>fema_region</th>\n",
       "      <th>overall_outcome</th>\n",
       "      <th>new_results_reported</th>\n",
       "      <th>total_results_reported</th>\n",
       "      <th>geocoded_state</th>\n",
       "    </tr>\n",
       "    <tr>\n",
       "      <th>date</th>\n",
       "      <th></th>\n",
       "      <th></th>\n",
       "      <th></th>\n",
       "      <th></th>\n",
       "      <th></th>\n",
       "      <th></th>\n",
       "      <th></th>\n",
       "      <th></th>\n",
       "    </tr>\n",
       "  </thead>\n",
       "  <tbody>\n",
       "    <tr>\n",
       "      <th>2021-12-07</th>\n",
       "      <td>SC</td>\n",
       "      <td>South Carolina</td>\n",
       "      <td>45</td>\n",
       "      <td>Region 4</td>\n",
       "      <td>Positive</td>\n",
       "      <td>1012</td>\n",
       "      <td>981007</td>\n",
       "      <td>NaN</td>\n",
       "    </tr>\n",
       "    <tr>\n",
       "      <th>2021-07-25</th>\n",
       "      <td>CT</td>\n",
       "      <td>Connecticut</td>\n",
       "      <td>9</td>\n",
       "      <td>Region 1</td>\n",
       "      <td>Positive</td>\n",
       "      <td>220</td>\n",
       "      <td>477604</td>\n",
       "      <td>NaN</td>\n",
       "    </tr>\n",
       "    <tr>\n",
       "      <th>2020-10-20</th>\n",
       "      <td>NY</td>\n",
       "      <td>New York</td>\n",
       "      <td>36</td>\n",
       "      <td>Region 2</td>\n",
       "      <td>Negative</td>\n",
       "      <td>103244</td>\n",
       "      <td>12624120</td>\n",
       "      <td>NaN</td>\n",
       "    </tr>\n",
       "    <tr>\n",
       "      <th>2021-11-22</th>\n",
       "      <td>WV</td>\n",
       "      <td>West Virginia</td>\n",
       "      <td>54</td>\n",
       "      <td>Region 3</td>\n",
       "      <td>Positive</td>\n",
       "      <td>567</td>\n",
       "      <td>323774</td>\n",
       "      <td>NaN</td>\n",
       "    </tr>\n",
       "    <tr>\n",
       "      <th>2021-06-25</th>\n",
       "      <td>OR</td>\n",
       "      <td>Oregon</td>\n",
       "      <td>41</td>\n",
       "      <td>Region 10</td>\n",
       "      <td>Positive</td>\n",
       "      <td>179</td>\n",
       "      <td>203904</td>\n",
       "      <td>NaN</td>\n",
       "    </tr>\n",
       "    <tr>\n",
       "      <th>...</th>\n",
       "      <td>...</td>\n",
       "      <td>...</td>\n",
       "      <td>...</td>\n",
       "      <td>...</td>\n",
       "      <td>...</td>\n",
       "      <td>...</td>\n",
       "      <td>...</td>\n",
       "      <td>...</td>\n",
       "    </tr>\n",
       "    <tr>\n",
       "      <th>2020-04-06</th>\n",
       "      <td>WI</td>\n",
       "      <td>Wisconsin</td>\n",
       "      <td>55</td>\n",
       "      <td>Region 5</td>\n",
       "      <td>Inconclusive</td>\n",
       "      <td>1</td>\n",
       "      <td>8</td>\n",
       "      <td>NaN</td>\n",
       "    </tr>\n",
       "    <tr>\n",
       "      <th>2021-01-29</th>\n",
       "      <td>IA</td>\n",
       "      <td>Iowa</td>\n",
       "      <td>19</td>\n",
       "      <td>Region 7</td>\n",
       "      <td>Positive</td>\n",
       "      <td>864</td>\n",
       "      <td>322314</td>\n",
       "      <td>NaN</td>\n",
       "    </tr>\n",
       "    <tr>\n",
       "      <th>2020-09-06</th>\n",
       "      <td>RI</td>\n",
       "      <td>Rhode Island</td>\n",
       "      <td>44</td>\n",
       "      <td>Region 1</td>\n",
       "      <td>Negative</td>\n",
       "      <td>3719</td>\n",
       "      <td>487654</td>\n",
       "      <td>NaN</td>\n",
       "    </tr>\n",
       "    <tr>\n",
       "      <th>2020-12-12</th>\n",
       "      <td>NY</td>\n",
       "      <td>New York</td>\n",
       "      <td>36</td>\n",
       "      <td>Region 2</td>\n",
       "      <td>Inconclusive</td>\n",
       "      <td>121</td>\n",
       "      <td>24730</td>\n",
       "      <td>NaN</td>\n",
       "    </tr>\n",
       "    <tr>\n",
       "      <th>2021-02-11</th>\n",
       "      <td>KS</td>\n",
       "      <td>Kansas</td>\n",
       "      <td>20</td>\n",
       "      <td>Region 7</td>\n",
       "      <td>Negative</td>\n",
       "      <td>6705</td>\n",
       "      <td>2210882</td>\n",
       "      <td>NaN</td>\n",
       "    </tr>\n",
       "  </tbody>\n",
       "</table></div>"
      ],
      "text/plain": [
       "           state      state_name  state_fips fema_region overall_outcome  \\\n",
       "date                                                                       \n",
       "2021-12-07    SC  South Carolina          45    Region 4        Positive   \n",
       "2021-07-25    CT     Connecticut           9    Region 1        Positive   \n",
       "2020-10-20    NY        New York          36    Region 2        Negative   \n",
       "2021-11-22    WV   West Virginia          54    Region 3        Positive   \n",
       "2021-06-25    OR          Oregon          41   Region 10        Positive   \n",
       "2021-05-09    NH   New Hampshire          33    Region 1    Inconclusive   \n",
       "2021-02-21    MN       Minnesota          27    Region 5    Inconclusive   \n",
       "2021-07-04    FL         Florida          12    Region 4        Positive   \n",
       "2021-04-10    MI        Michigan          26    Region 5        Positive   \n",
       "2020-09-21    AR        Arkansas           5    Region 6        Positive   \n",
       "2020-09-21    MA   Massachusetts          25    Region 1        Negative   \n",
       "2021-08-23    PA    Pennsylvania          42    Region 3        Positive   \n",
       "2021-08-15    AL         Alabama           1    Region 4        Negative   \n",
       "2020-04-03    AK          Alaska           2   Region 10        Positive   \n",
       "2020-10-10    AR        Arkansas           5    Region 6        Positive   \n",
       "2021-12-11    NJ      New Jersey          34    Region 2        Negative   \n",
       "2021-10-05    MI        Michigan          26    Region 5        Positive   \n",
       "2021-12-09    RI    Rhode Island          44    Region 1        Negative   \n",
       "2021-01-03    SC  South Carolina          45    Region 4        Positive   \n",
       "2021-03-08    AZ         Arizona           4    Region 9        Positive   \n",
       "2020-04-06    WI       Wisconsin          55    Region 5    Inconclusive   \n",
       "2021-01-29    IA            Iowa          19    Region 7        Positive   \n",
       "2020-09-06    RI    Rhode Island          44    Region 1        Negative   \n",
       "2020-12-12    NY        New York          36    Region 2    Inconclusive   \n",
       "2021-02-11    KS          Kansas          20    Region 7        Negative   \n",
       "\n",
       "            new_results_reported  total_results_reported  geocoded_state  \n",
       "date                                                                      \n",
       "2021-12-07                  1012                  981007             NaN  \n",
       "2021-07-25                   220                  477604             NaN  \n",
       "2020-10-20                103244                12624120             NaN  \n",
       "2021-11-22                   567                  323774             NaN  \n",
       "2021-06-25                   179                  203904             NaN  \n",
       "2021-05-09                     2                    1391             NaN  \n",
       "2021-02-21                    16                    7263             NaN  \n",
       "2021-07-04                  1603                 2906241             NaN  \n",
       "2021-04-10                  5869                  918046             NaN  \n",
       "2020-09-21                   820                   80113             NaN  \n",
       "2020-09-21                 54531                 3424181             NaN  \n",
       "2021-08-23                  2541                 1305728             NaN  \n",
       "2021-08-15                  5551                 4524051             NaN  \n",
       "2020-04-03                    26                     247             NaN  \n",
       "2020-10-10                   583                   93895             NaN  \n",
       "2021-12-11                 29558                19376586             NaN  \n",
       "2021-10-05                  5062                 1268408             NaN  \n",
       "2021-12-09                 18143                 5357349             NaN  \n",
       "2021-01-03                  3930                  414102             NaN  \n",
       "2021-03-08                   586                  848363             NaN  \n",
       "2020-04-06                     1                       8             NaN  \n",
       "2021-01-29                   864                  322314             NaN  \n",
       "2020-09-06                  3719                  487654             NaN  \n",
       "2020-12-12                   121                   24730             NaN  \n",
       "2021-02-11                  6705                 2210882             NaN  "
      ]
     },
     "execution_count": 36,
     "metadata": {},
     "output_type": "execute_result"
    }
   ],
   "source": [
    "df.sample(25)"
   ]
  },
  {
   "cell_type": "code",
   "execution_count": 37,
   "metadata": {},
   "outputs": [
    {
     "data": {
      "text/plain": [
       "56"
      ]
     },
     "execution_count": 37,
     "metadata": {},
     "output_type": "execute_result"
    }
   ],
   "source": [
    "df.state_fips.nunique()"
   ]
  },
  {
   "cell_type": "markdown",
   "metadata": {},
   "source": [
    "States plus territories (DC, Puerto Rico, Guam, Northern Mariana Islands, U.S. Virgin Islands, Marshall Islands)"
   ]
  },
  {
   "cell_type": "code",
   "execution_count": 38,
   "metadata": {},
   "outputs": [
    {
     "data": {
      "text/plain": [
       "Washington                  2046\n",
       "Nebraska                    2043\n",
       "Florida                     2040\n",
       "New York                    2039\n",
       "Illinois                    2038\n",
       "Massachusetts               2036\n",
       "Nevada                      2035\n",
       "Idaho                       2034\n",
       "California                  2032\n",
       "Pennsylvania                2032\n",
       "Louisiana                   2032\n",
       "Kansas                      2032\n",
       "Ohio                        2031\n",
       "Alabama                     2031\n",
       "New Hampshire               2031\n",
       "Georgia                     2030\n",
       "North Carolina              2029\n",
       "Tennessee                   2028\n",
       "Texas                       2028\n",
       "Colorado                    2028\n",
       "South Carolina              2027\n",
       "Oregon                      2026\n",
       "Oklahoma                    2026\n",
       "Wisconsin                   2025\n",
       "Missouri                    2024\n",
       "Virginia                    2024\n",
       "Mississippi                 2023\n",
       "Connecticut                 2023\n",
       "New Jersey                  2023\n",
       "Utah                        2023\n",
       "Maine                       2021\n",
       "Kentucky                    2021\n",
       "Indiana                     2019\n",
       "Arizona                     2018\n",
       "Michigan                    2017\n",
       "Alaska                      2012\n",
       "Puerto Rico                 2009\n",
       "Maryland                    2009\n",
       "Hawaii                      2009\n",
       "Montana                     2006\n",
       "North Dakota                2005\n",
       "District of Columbia        2004\n",
       "Delaware                    2003\n",
       "New Mexico                  2000\n",
       "Iowa                        1996\n",
       "Arkansas                    1994\n",
       "Rhode Island                1993\n",
       "West Virginia               1991\n",
       "Vermont                     1989\n",
       "Wyoming                     1977\n",
       "Minnesota                   1968\n",
       "South Dakota                1915\n",
       "Guam                        1824\n",
       "Northern Mariana Islands    1637\n",
       "U.S. Virgin Islands         1626\n",
       "Marshall Islands             709\n",
       "Name: state_name, dtype: int64"
      ]
     },
     "execution_count": 38,
     "metadata": {},
     "output_type": "execute_result"
    }
   ],
   "source": [
    "df.state_name.value_counts()"
   ]
  },
  {
   "cell_type": "markdown",
   "metadata": {},
   "source": [
    "Is there a geographic subdivision finer than state level?\n",
    "\n",
    "There are 10 FEMA regions representing multi-state areas (more course, not fine)\n",
    "\n",
    "![FEMA Regions](fema_regions.png)"
   ]
  },
  {
   "cell_type": "code",
   "execution_count": 39,
   "metadata": {},
   "outputs": [
    {
     "data": {
      "text/html": [
       "<div><div id=7a4d4ebe-32b5-4dc6-b9a0-fa9f46bde386 style=\"display:none; background-color:#9D6CFF; color:white; width:200px; height:30px; padding-left:5px; border-radius:4px; flex-direction:row; justify-content:space-around; align-items:center;\" onmouseover=\"this.style.backgroundColor='#BA9BF8'\" onmouseout=\"this.style.backgroundColor='#9D6CFF'\" onclick=\"window.commands?.execute('create-mitosheet-from-dataframe-output');\">See Full Dataframe in Mito</div> <script> if (window.commands.hasCommand('create-mitosheet-from-dataframe-output')) document.getElementById('7a4d4ebe-32b5-4dc6-b9a0-fa9f46bde386').style.display = 'flex' </script> <table border=\"1\" class=\"dataframe\">\n",
       "  <thead>\n",
       "    <tr style=\"text-align: right;\">\n",
       "      <th></th>\n",
       "      <th>state</th>\n",
       "      <th>state_name</th>\n",
       "      <th>state_fips</th>\n",
       "      <th>fema_region</th>\n",
       "      <th>overall_outcome</th>\n",
       "      <th>new_results_reported</th>\n",
       "      <th>total_results_reported</th>\n",
       "      <th>geocoded_state</th>\n",
       "    </tr>\n",
       "    <tr>\n",
       "      <th>date</th>\n",
       "      <th></th>\n",
       "      <th></th>\n",
       "      <th></th>\n",
       "      <th></th>\n",
       "      <th></th>\n",
       "      <th></th>\n",
       "      <th></th>\n",
       "      <th></th>\n",
       "    </tr>\n",
       "  </thead>\n",
       "  <tbody>\n",
       "    <tr>\n",
       "      <th>2020-03-01</th>\n",
       "      <td>AL</td>\n",
       "      <td>Alabama</td>\n",
       "      <td>1</td>\n",
       "      <td>Region 4</td>\n",
       "      <td>Negative</td>\n",
       "      <td>96</td>\n",
       "      <td>96</td>\n",
       "      <td>NaN</td>\n",
       "    </tr>\n",
       "    <tr>\n",
       "      <th>2020-03-01</th>\n",
       "      <td>WA</td>\n",
       "      <td>Washington</td>\n",
       "      <td>53</td>\n",
       "      <td>Region 10</td>\n",
       "      <td>Inconclusive</td>\n",
       "      <td>1</td>\n",
       "      <td>1</td>\n",
       "      <td>NaN</td>\n",
       "    </tr>\n",
       "    <tr>\n",
       "      <th>2020-03-01</th>\n",
       "      <td>AK</td>\n",
       "      <td>Alaska</td>\n",
       "      <td>2</td>\n",
       "      <td>Region 10</td>\n",
       "      <td>Negative</td>\n",
       "      <td>4</td>\n",
       "      <td>4</td>\n",
       "      <td>NaN</td>\n",
       "    </tr>\n",
       "    <tr>\n",
       "      <th>2020-03-01</th>\n",
       "      <td>TN</td>\n",
       "      <td>Tennessee</td>\n",
       "      <td>47</td>\n",
       "      <td>Region 4</td>\n",
       "      <td>Negative</td>\n",
       "      <td>1</td>\n",
       "      <td>1</td>\n",
       "      <td>NaN</td>\n",
       "    </tr>\n",
       "    <tr>\n",
       "      <th>2020-03-01</th>\n",
       "      <td>SC</td>\n",
       "      <td>South Carolina</td>\n",
       "      <td>45</td>\n",
       "      <td>Region 4</td>\n",
       "      <td>Positive</td>\n",
       "      <td>4</td>\n",
       "      <td>4</td>\n",
       "      <td>NaN</td>\n",
       "    </tr>\n",
       "  </tbody>\n",
       "</table></div>"
      ],
      "text/plain": [
       "           state      state_name  state_fips fema_region overall_outcome  \\\n",
       "date                                                                       \n",
       "2020-03-01    AL         Alabama           1    Region 4        Negative   \n",
       "2020-03-01    WA      Washington          53   Region 10    Inconclusive   \n",
       "2020-03-01    AK          Alaska           2   Region 10        Negative   \n",
       "2020-03-01    TN       Tennessee          47    Region 4        Negative   \n",
       "2020-03-01    SC  South Carolina          45    Region 4        Positive   \n",
       "\n",
       "            new_results_reported  total_results_reported  geocoded_state  \n",
       "date                                                                      \n",
       "2020-03-01                    96                      96             NaN  \n",
       "2020-03-01                     1                       1             NaN  \n",
       "2020-03-01                     4                       4             NaN  \n",
       "2020-03-01                     1                       1             NaN  \n",
       "2020-03-01                     4                       4             NaN  "
      ]
     },
     "execution_count": 39,
     "metadata": {},
     "output_type": "execute_result"
    }
   ],
   "source": [
    "df.head()"
   ]
  },
  {
   "cell_type": "code",
   "execution_count": 40,
   "metadata": {},
   "outputs": [
    {
     "data": {
      "text/plain": [
       "state                          0\n",
       "state_name                     0\n",
       "state_fips                     0\n",
       "fema_region                    0\n",
       "overall_outcome                0\n",
       "new_results_reported           0\n",
       "total_results_reported         0\n",
       "geocoded_state            110691\n",
       "dtype: int64"
      ]
     },
     "execution_count": 40,
     "metadata": {},
     "output_type": "execute_result"
    }
   ],
   "source": [
    "# Null value counts\n",
    "\n",
    "df.isna().sum()"
   ]
  },
  {
   "cell_type": "code",
   "execution_count": 41,
   "metadata": {},
   "outputs": [
    {
     "data": {
      "text/plain": [
       "(110691, 8)"
      ]
     },
     "execution_count": 41,
     "metadata": {},
     "output_type": "execute_result"
    }
   ],
   "source": [
    "df.shape"
   ]
  },
  {
   "cell_type": "code",
   "execution_count": 42,
   "metadata": {},
   "outputs": [],
   "source": [
    "texas = df[df['state_name']=='Texas']"
   ]
  },
  {
   "cell_type": "code",
   "execution_count": 43,
   "metadata": {},
   "outputs": [
    {
     "data": {
      "text/html": [
       "<div><div id=7c2d988b-0cbf-49a9-b28e-9fa75c67efb9 style=\"display:none; background-color:#9D6CFF; color:white; width:200px; height:30px; padding-left:5px; border-radius:4px; flex-direction:row; justify-content:space-around; align-items:center;\" onmouseover=\"this.style.backgroundColor='#BA9BF8'\" onmouseout=\"this.style.backgroundColor='#9D6CFF'\" onclick=\"window.commands?.execute('create-mitosheet-from-dataframe-output');\">See Full Dataframe in Mito</div> <script> if (window.commands.hasCommand('create-mitosheet-from-dataframe-output')) document.getElementById('7c2d988b-0cbf-49a9-b28e-9fa75c67efb9').style.display = 'flex' </script> <table border=\"1\" class=\"dataframe\">\n",
       "  <thead>\n",
       "    <tr style=\"text-align: right;\">\n",
       "      <th></th>\n",
       "      <th>state</th>\n",
       "      <th>state_name</th>\n",
       "      <th>state_fips</th>\n",
       "      <th>fema_region</th>\n",
       "      <th>overall_outcome</th>\n",
       "      <th>new_results_reported</th>\n",
       "      <th>total_results_reported</th>\n",
       "      <th>geocoded_state</th>\n",
       "    </tr>\n",
       "    <tr>\n",
       "      <th>date</th>\n",
       "      <th></th>\n",
       "      <th></th>\n",
       "      <th></th>\n",
       "      <th></th>\n",
       "      <th></th>\n",
       "      <th></th>\n",
       "      <th></th>\n",
       "      <th></th>\n",
       "    </tr>\n",
       "  </thead>\n",
       "  <tbody>\n",
       "    <tr>\n",
       "      <th>2020-03-02</th>\n",
       "      <td>TX</td>\n",
       "      <td>Texas</td>\n",
       "      <td>48</td>\n",
       "      <td>Region 6</td>\n",
       "      <td>Negative</td>\n",
       "      <td>2</td>\n",
       "      <td>2</td>\n",
       "      <td>NaN</td>\n",
       "    </tr>\n",
       "    <tr>\n",
       "      <th>2020-03-03</th>\n",
       "      <td>TX</td>\n",
       "      <td>Texas</td>\n",
       "      <td>48</td>\n",
       "      <td>Region 6</td>\n",
       "      <td>Negative</td>\n",
       "      <td>4</td>\n",
       "      <td>6</td>\n",
       "      <td>NaN</td>\n",
       "    </tr>\n",
       "    <tr>\n",
       "      <th>2020-03-04</th>\n",
       "      <td>TX</td>\n",
       "      <td>Texas</td>\n",
       "      <td>48</td>\n",
       "      <td>Region 6</td>\n",
       "      <td>Negative</td>\n",
       "      <td>10</td>\n",
       "      <td>16</td>\n",
       "      <td>NaN</td>\n",
       "    </tr>\n",
       "    <tr>\n",
       "      <th>2020-03-05</th>\n",
       "      <td>TX</td>\n",
       "      <td>Texas</td>\n",
       "      <td>48</td>\n",
       "      <td>Region 6</td>\n",
       "      <td>Positive</td>\n",
       "      <td>1</td>\n",
       "      <td>1</td>\n",
       "      <td>NaN</td>\n",
       "    </tr>\n",
       "    <tr>\n",
       "      <th>2020-03-05</th>\n",
       "      <td>TX</td>\n",
       "      <td>Texas</td>\n",
       "      <td>48</td>\n",
       "      <td>Region 6</td>\n",
       "      <td>Negative</td>\n",
       "      <td>10</td>\n",
       "      <td>26</td>\n",
       "      <td>NaN</td>\n",
       "    </tr>\n",
       "  </tbody>\n",
       "</table></div>"
      ],
      "text/plain": [
       "           state state_name  state_fips fema_region overall_outcome  \\\n",
       "date                                                                  \n",
       "2020-03-02    TX      Texas          48    Region 6        Negative   \n",
       "2020-03-03    TX      Texas          48    Region 6        Negative   \n",
       "2020-03-04    TX      Texas          48    Region 6        Negative   \n",
       "2020-03-05    TX      Texas          48    Region 6        Positive   \n",
       "2020-03-05    TX      Texas          48    Region 6        Negative   \n",
       "\n",
       "            new_results_reported  total_results_reported  geocoded_state  \n",
       "date                                                                      \n",
       "2020-03-02                     2                       2             NaN  \n",
       "2020-03-03                     4                       6             NaN  \n",
       "2020-03-04                    10                      16             NaN  \n",
       "2020-03-05                     1                       1             NaN  \n",
       "2020-03-05                    10                      26             NaN  "
      ]
     },
     "execution_count": 43,
     "metadata": {},
     "output_type": "execute_result"
    }
   ],
   "source": [
    "texas.head()"
   ]
  },
  {
   "cell_type": "code",
   "execution_count": 44,
   "metadata": {},
   "outputs": [],
   "source": [
    "df=texas"
   ]
  },
  {
   "cell_type": "code",
   "execution_count": 45,
   "metadata": {},
   "outputs": [
    {
     "name": "stdout",
     "output_type": "stream",
     "text": [
      "Date Range: 2020-03-02 00:00:00 to 2022-01-11 00:00:00\n",
      "Shape: (2028, 8)\n"
     ]
    }
   ],
   "source": [
    "print('Date Range:', df.index.min(), 'to', df.index.max())\n",
    "print('Shape:', df.shape)"
   ]
  },
  {
   "cell_type": "code",
   "execution_count": 47,
   "metadata": {},
   "outputs": [
    {
     "data": {
      "text/plain": [
       "[<matplotlib.lines.Line2D at 0x7fd93a830340>]"
      ]
     },
     "execution_count": 47,
     "metadata": {},
     "output_type": "execute_result"
    },
    {
     "data": {
      "image/png": "[encoded data removed]",
      "text/plain": [
       "<Figure size 936x504 with 1 Axes>"
      ]
     },
     "metadata": {},
     "output_type": "display_data"
    }
   ],
   "source": [
    "plt.plot(df.index, df.total_results_reported)"
   ]
  },
  {
   "cell_type": "code",
   "execution_count": 48,
   "metadata": {},
   "outputs": [
    {
     "data": {
      "text/html": [
       "<div><div id=964b13ca-7cce-4f04-8ad8-0ccca1756a4f style=\"display:none; background-color:#9D6CFF; color:white; width:200px; height:30px; padding-left:5px; border-radius:4px; flex-direction:row; justify-content:space-around; align-items:center;\" onmouseover=\"this.style.backgroundColor='#BA9BF8'\" onmouseout=\"this.style.backgroundColor='#9D6CFF'\" onclick=\"window.commands?.execute('create-mitosheet-from-dataframe-output');\">See Full Dataframe in Mito</div> <script> if (window.commands.hasCommand('create-mitosheet-from-dataframe-output')) document.getElementById('964b13ca-7cce-4f04-8ad8-0ccca1756a4f').style.display = 'flex' </script> <table border=\"1\" class=\"dataframe\">\n",
       "  <thead>\n",
       "    <tr style=\"text-align: right;\">\n",
       "      <th></th>\n",
       "      <th>state</th>\n",
       "      <th>state_name</th>\n",
       "      <th>state_fips</th>\n",
       "      <th>fema_region</th>\n",
       "      <th>overall_outcome</th>\n",
       "      <th>new_results_reported</th>\n",
       "      <th>total_results_reported</th>\n",
       "      <th>geocoded_state</th>\n",
       "    </tr>\n",
       "    <tr>\n",
       "      <th>date</th>\n",
       "      <th></th>\n",
       "      <th></th>\n",
       "      <th></th>\n",
       "      <th></th>\n",
       "      <th></th>\n",
       "      <th></th>\n",
       "      <th></th>\n",
       "      <th></th>\n",
       "    </tr>\n",
       "  </thead>\n",
       "  <tbody>\n",
       "    <tr>\n",
       "      <th>2020-03-02</th>\n",
       "      <td>TX</td>\n",
       "      <td>Texas</td>\n",
       "      <td>48</td>\n",
       "      <td>Region 6</td>\n",
       "      <td>Negative</td>\n",
       "      <td>2</td>\n",
       "      <td>2</td>\n",
       "      <td>NaN</td>\n",
       "    </tr>\n",
       "    <tr>\n",
       "      <th>2020-03-03</th>\n",
       "      <td>TX</td>\n",
       "      <td>Texas</td>\n",
       "      <td>48</td>\n",
       "      <td>Region 6</td>\n",
       "      <td>Negative</td>\n",
       "      <td>4</td>\n",
       "      <td>6</td>\n",
       "      <td>NaN</td>\n",
       "    </tr>\n",
       "    <tr>\n",
       "      <th>2020-03-04</th>\n",
       "      <td>TX</td>\n",
       "      <td>Texas</td>\n",
       "      <td>48</td>\n",
       "      <td>Region 6</td>\n",
       "      <td>Negative</td>\n",
       "      <td>10</td>\n",
       "      <td>16</td>\n",
       "      <td>NaN</td>\n",
       "    </tr>\n",
       "    <tr>\n",
       "      <th>2020-03-05</th>\n",
       "      <td>TX</td>\n",
       "      <td>Texas</td>\n",
       "      <td>48</td>\n",
       "      <td>Region 6</td>\n",
       "      <td>Positive</td>\n",
       "      <td>1</td>\n",
       "      <td>1</td>\n",
       "      <td>NaN</td>\n",
       "    </tr>\n",
       "    <tr>\n",
       "      <th>2020-03-05</th>\n",
       "      <td>TX</td>\n",
       "      <td>Texas</td>\n",
       "      <td>48</td>\n",
       "      <td>Region 6</td>\n",
       "      <td>Negative</td>\n",
       "      <td>10</td>\n",
       "      <td>26</td>\n",
       "      <td>NaN</td>\n",
       "    </tr>\n",
       "  </tbody>\n",
       "</table></div>"
      ],
      "text/plain": [
       "           state state_name  state_fips fema_region overall_outcome  \\\n",
       "date                                                                  \n",
       "2020-03-02    TX      Texas          48    Region 6        Negative   \n",
       "2020-03-03    TX      Texas          48    Region 6        Negative   \n",
       "2020-03-04    TX      Texas          48    Region 6        Negative   \n",
       "2020-03-05    TX      Texas          48    Region 6        Positive   \n",
       "2020-03-05    TX      Texas          48    Region 6        Negative   \n",
       "\n",
       "            new_results_reported  total_results_reported  geocoded_state  \n",
       "date                                                                      \n",
       "2020-03-02                     2                       2             NaN  \n",
       "2020-03-03                     4                       6             NaN  \n",
       "2020-03-04                    10                      16             NaN  \n",
       "2020-03-05                     1                       1             NaN  \n",
       "2020-03-05                    10                      26             NaN  "
      ]
     },
     "execution_count": 48,
     "metadata": {},
     "output_type": "execute_result"
    }
   ],
   "source": [
    "texas.head()"
   ]
  },
  {
   "cell_type": "code",
   "execution_count": null,
   "metadata": {},
   "outputs": [],
   "source": []
  }
 ],
 "metadata": {
  "interpreter": {
   "hash": "38cca0c38332a56087b24af0bc80247f4fced29cb4f7f437d91dc159adec9c4e"
  },
  "kernelspec": {
   "display_name": "Python 3.8.12 64-bit ('base': conda)",
   "language": "python",
   "name": "python3"
  },
  "language_info": {
   "codemirror_mode": {
    "name": "ipython",
    "version": 3
   },
   "file_extension": ".py",
   "mimetype": "text/x-python",
   "name": "python",
   "nbconvert_exporter": "python",
   "pygments_lexer": "ipython3",
   "version": "3.8.12"
  },
  "orig_nbformat": 4
 },
 "nbformat": 4,
 "nbformat_minor": 2
}
