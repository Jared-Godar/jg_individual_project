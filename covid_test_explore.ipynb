{
 "cells": [
  {
   "cell_type": "markdown",
   "metadata": {},
   "source": [
    "Time series data of COVID PCR test results across US"
   ]
  },
  {
   "cell_type": "code",
   "execution_count": 2,
   "metadata": {},
   "outputs": [],
   "source": [
    "import pandas as pd\n",
    "from datetime import timedelta, datetime\n",
    "import numpy as np\n",
    "import matplotlib.pyplot as plt\n",
    "import seaborn as sns\n",
    "import statsmodels.api as sm\n",
    "\n",
    "import warnings\n",
    "warnings.filterwarnings(\"ignore\")\n",
    "\n",
    "\n",
    "# plotting defaults\n",
    "plt.rc('figure', figsize=(13, 7))\n",
    "plt.style.use('seaborn-whitegrid')\n",
    "plt.rc('font', size=16)"
   ]
  },
  {
   "cell_type": "code",
   "execution_count": 3,
   "metadata": {},
   "outputs": [],
   "source": [
    "df=pd.read_csv('covid_pcr_results_200114.csv')"
   ]
  },
  {
   "cell_type": "code",
   "execution_count": 4,
   "metadata": {},
   "outputs": [
    {
     "data": {
      "text/plain": [
       "(110691, 9)"
      ]
     },
     "execution_count": 4,
     "metadata": {},
     "output_type": "execute_result"
    }
   ],
   "source": [
    "df.shape"
   ]
  },
  {
   "cell_type": "code",
   "execution_count": 5,
   "metadata": {},
   "outputs": [
    {
     "data": {
      "text/html": [
       "<div><div id=1b3fe88b-73fc-45df-b4e9-8c9ff1278145 style=\"display:none; background-color:#9D6CFF; color:white; width:200px; height:30px; padding-left:5px; border-radius:4px; flex-direction:row; justify-content:space-around; align-items:center;\" onmouseover=\"this.style.backgroundColor='#BA9BF8'\" onmouseout=\"this.style.backgroundColor='#9D6CFF'\" onclick=\"window.commands?.execute('create-mitosheet-from-dataframe-output');\">See Full Dataframe in Mito</div> <script> if (window.commands.hasCommand('create-mitosheet-from-dataframe-output')) document.getElementById('1b3fe88b-73fc-45df-b4e9-8c9ff1278145').style.display = 'flex' </script> <table border=\"1\" class=\"dataframe\">\n",
       "  <thead>\n",
       "    <tr style=\"text-align: right;\">\n",
       "      <th></th>\n",
       "      <th>state</th>\n",
       "      <th>state_name</th>\n",
       "      <th>state_fips</th>\n",
       "      <th>fema_region</th>\n",
       "      <th>overall_outcome</th>\n",
       "      <th>date</th>\n",
       "      <th>new_results_reported</th>\n",
       "      <th>total_results_reported</th>\n",
       "      <th>geocoded_state</th>\n",
       "    </tr>\n",
       "  </thead>\n",
       "  <tbody>\n",
       "    <tr>\n",
       "      <th>0</th>\n",
       "      <td>AL</td>\n",
       "      <td>Alabama</td>\n",
       "      <td>1</td>\n",
       "      <td>Region 4</td>\n",
       "      <td>Negative</td>\n",
       "      <td>2020/03/01</td>\n",
       "      <td>96</td>\n",
       "      <td>96</td>\n",
       "      <td>NaN</td>\n",
       "    </tr>\n",
       "    <tr>\n",
       "      <th>1</th>\n",
       "      <td>AL</td>\n",
       "      <td>Alabama</td>\n",
       "      <td>1</td>\n",
       "      <td>Region 4</td>\n",
       "      <td>Positive</td>\n",
       "      <td>2020/03/01</td>\n",
       "      <td>16</td>\n",
       "      <td>16</td>\n",
       "      <td>NaN</td>\n",
       "    </tr>\n",
       "    <tr>\n",
       "      <th>2</th>\n",
       "      <td>AL</td>\n",
       "      <td>Alabama</td>\n",
       "      <td>1</td>\n",
       "      <td>Region 4</td>\n",
       "      <td>Negative</td>\n",
       "      <td>2020/03/02</td>\n",
       "      <td>72</td>\n",
       "      <td>168</td>\n",
       "      <td>NaN</td>\n",
       "    </tr>\n",
       "    <tr>\n",
       "      <th>3</th>\n",
       "      <td>AL</td>\n",
       "      <td>Alabama</td>\n",
       "      <td>1</td>\n",
       "      <td>Region 4</td>\n",
       "      <td>Positive</td>\n",
       "      <td>2020/03/02</td>\n",
       "      <td>6</td>\n",
       "      <td>22</td>\n",
       "      <td>NaN</td>\n",
       "    </tr>\n",
       "    <tr>\n",
       "      <th>4</th>\n",
       "      <td>AL</td>\n",
       "      <td>Alabama</td>\n",
       "      <td>1</td>\n",
       "      <td>Region 4</td>\n",
       "      <td>Negative</td>\n",
       "      <td>2020/03/03</td>\n",
       "      <td>94</td>\n",
       "      <td>262</td>\n",
       "      <td>NaN</td>\n",
       "    </tr>\n",
       "  </tbody>\n",
       "</table></div>"
      ],
      "text/plain": [
       "  state state_name  state_fips fema_region overall_outcome        date  \\\n",
       "0    AL    Alabama           1    Region 4        Negative  2020/03/01   \n",
       "1    AL    Alabama           1    Region 4        Positive  2020/03/01   \n",
       "2    AL    Alabama           1    Region 4        Negative  2020/03/02   \n",
       "3    AL    Alabama           1    Region 4        Positive  2020/03/02   \n",
       "4    AL    Alabama           1    Region 4        Negative  2020/03/03   \n",
       "\n",
       "   new_results_reported  total_results_reported  geocoded_state  \n",
       "0                    96                      96             NaN  \n",
       "1                    16                      16             NaN  \n",
       "2                    72                     168             NaN  \n",
       "3                     6                      22             NaN  \n",
       "4                    94                     262             NaN  "
      ]
     },
     "execution_count": 5,
     "metadata": {},
     "output_type": "execute_result"
    }
   ],
   "source": [
    "df.head()"
   ]
  },
  {
   "cell_type": "code",
   "execution_count": 6,
   "metadata": {},
   "outputs": [
    {
     "data": {
      "text/plain": [
       "state                      object\n",
       "state_name                 object\n",
       "state_fips                  int64\n",
       "fema_region                object\n",
       "overall_outcome            object\n",
       "date                       object\n",
       "new_results_reported        int64\n",
       "total_results_reported      int64\n",
       "geocoded_state            float64\n",
       "dtype: object"
      ]
     },
     "execution_count": 6,
     "metadata": {},
     "output_type": "execute_result"
    }
   ],
   "source": [
    "df.dtypes"
   ]
  },
  {
   "cell_type": "code",
   "execution_count": 7,
   "metadata": {},
   "outputs": [],
   "source": [
    "# Made date date and reindex\n",
    "df.date = pd.to_datetime(df.date)\n",
    "df = df.set_index('date').sort_index()"
   ]
  },
  {
   "cell_type": "code",
   "execution_count": 8,
   "metadata": {},
   "outputs": [
    {
     "data": {
      "text/html": [
       "<div><div id=60a5c226-bda5-44ac-8beb-c21d7deeed2b style=\"display:none; background-color:#9D6CFF; color:white; width:200px; height:30px; padding-left:5px; border-radius:4px; flex-direction:row; justify-content:space-around; align-items:center;\" onmouseover=\"this.style.backgroundColor='#BA9BF8'\" onmouseout=\"this.style.backgroundColor='#9D6CFF'\" onclick=\"window.commands?.execute('create-mitosheet-from-dataframe-output');\">See Full Dataframe in Mito</div> <script> if (window.commands.hasCommand('create-mitosheet-from-dataframe-output')) document.getElementById('60a5c226-bda5-44ac-8beb-c21d7deeed2b').style.display = 'flex' </script> <table border=\"1\" class=\"dataframe\">\n",
       "  <thead>\n",
       "    <tr style=\"text-align: right;\">\n",
       "      <th></th>\n",
       "      <th>state</th>\n",
       "      <th>state_name</th>\n",
       "      <th>state_fips</th>\n",
       "      <th>fema_region</th>\n",
       "      <th>overall_outcome</th>\n",
       "      <th>new_results_reported</th>\n",
       "      <th>total_results_reported</th>\n",
       "      <th>geocoded_state</th>\n",
       "    </tr>\n",
       "    <tr>\n",
       "      <th>date</th>\n",
       "      <th></th>\n",
       "      <th></th>\n",
       "      <th></th>\n",
       "      <th></th>\n",
       "      <th></th>\n",
       "      <th></th>\n",
       "      <th></th>\n",
       "      <th></th>\n",
       "    </tr>\n",
       "  </thead>\n",
       "  <tbody>\n",
       "    <tr>\n",
       "      <th>2021-10-16</th>\n",
       "      <td>AL</td>\n",
       "      <td>Alabama</td>\n",
       "      <td>1</td>\n",
       "      <td>Region 4</td>\n",
       "      <td>Negative</td>\n",
       "      <td>5040</td>\n",
       "      <td>5196179</td>\n",
       "      <td>NaN</td>\n",
       "    </tr>\n",
       "    <tr>\n",
       "      <th>2021-01-04</th>\n",
       "      <td>IA</td>\n",
       "      <td>Iowa</td>\n",
       "      <td>19</td>\n",
       "      <td>Region 7</td>\n",
       "      <td>Positive</td>\n",
       "      <td>1108</td>\n",
       "      <td>295480</td>\n",
       "      <td>NaN</td>\n",
       "    </tr>\n",
       "    <tr>\n",
       "      <th>2021-12-28</th>\n",
       "      <td>OR</td>\n",
       "      <td>Oregon</td>\n",
       "      <td>41</td>\n",
       "      <td>Region 10</td>\n",
       "      <td>Positive</td>\n",
       "      <td>2109</td>\n",
       "      <td>369541</td>\n",
       "      <td>NaN</td>\n",
       "    </tr>\n",
       "    <tr>\n",
       "      <th>2020-12-21</th>\n",
       "      <td>AL</td>\n",
       "      <td>Alabama</td>\n",
       "      <td>1</td>\n",
       "      <td>Region 4</td>\n",
       "      <td>Negative</td>\n",
       "      <td>13065</td>\n",
       "      <td>2710789</td>\n",
       "      <td>NaN</td>\n",
       "    </tr>\n",
       "    <tr>\n",
       "      <th>2021-11-08</th>\n",
       "      <td>VA</td>\n",
       "      <td>Virginia</td>\n",
       "      <td>51</td>\n",
       "      <td>Region 3</td>\n",
       "      <td>Inconclusive</td>\n",
       "      <td>39</td>\n",
       "      <td>18236</td>\n",
       "      <td>NaN</td>\n",
       "    </tr>\n",
       "    <tr>\n",
       "      <th>...</th>\n",
       "      <td>...</td>\n",
       "      <td>...</td>\n",
       "      <td>...</td>\n",
       "      <td>...</td>\n",
       "      <td>...</td>\n",
       "      <td>...</td>\n",
       "      <td>...</td>\n",
       "      <td>...</td>\n",
       "    </tr>\n",
       "    <tr>\n",
       "      <th>2021-09-07</th>\n",
       "      <td>MO</td>\n",
       "      <td>Missouri</td>\n",
       "      <td>29</td>\n",
       "      <td>Region 7</td>\n",
       "      <td>Inconclusive</td>\n",
       "      <td>43</td>\n",
       "      <td>16859</td>\n",
       "      <td>NaN</td>\n",
       "    </tr>\n",
       "    <tr>\n",
       "      <th>2021-05-09</th>\n",
       "      <td>MA</td>\n",
       "      <td>Massachusetts</td>\n",
       "      <td>25</td>\n",
       "      <td>Region 1</td>\n",
       "      <td>Inconclusive</td>\n",
       "      <td>38</td>\n",
       "      <td>20741</td>\n",
       "      <td>NaN</td>\n",
       "    </tr>\n",
       "    <tr>\n",
       "      <th>2021-09-04</th>\n",
       "      <td>MA</td>\n",
       "      <td>Massachusetts</td>\n",
       "      <td>25</td>\n",
       "      <td>Region 1</td>\n",
       "      <td>Inconclusive</td>\n",
       "      <td>120</td>\n",
       "      <td>25556</td>\n",
       "      <td>NaN</td>\n",
       "    </tr>\n",
       "    <tr>\n",
       "      <th>2020-10-16</th>\n",
       "      <td>GA</td>\n",
       "      <td>Georgia</td>\n",
       "      <td>13</td>\n",
       "      <td>Region 4</td>\n",
       "      <td>Positive</td>\n",
       "      <td>1459</td>\n",
       "      <td>315063</td>\n",
       "      <td>NaN</td>\n",
       "    </tr>\n",
       "    <tr>\n",
       "      <th>2021-04-16</th>\n",
       "      <td>DE</td>\n",
       "      <td>Delaware</td>\n",
       "      <td>10</td>\n",
       "      <td>Region 3</td>\n",
       "      <td>Negative</td>\n",
       "      <td>7633</td>\n",
       "      <td>1796155</td>\n",
       "      <td>NaN</td>\n",
       "    </tr>\n",
       "  </tbody>\n",
       "</table></div>"
      ],
      "text/plain": [
       "           state           state_name  state_fips fema_region overall_outcome  \\\n",
       "date                                                                            \n",
       "2021-10-16    AL              Alabama           1    Region 4        Negative   \n",
       "2021-01-04    IA                 Iowa          19    Region 7        Positive   \n",
       "2021-12-28    OR               Oregon          41   Region 10        Positive   \n",
       "2020-12-21    AL              Alabama           1    Region 4        Negative   \n",
       "2021-11-08    VA             Virginia          51    Region 3    Inconclusive   \n",
       "2021-09-05    AZ              Arizona           4    Region 9        Negative   \n",
       "2020-07-07    PR          Puerto Rico          72    Region 2        Positive   \n",
       "2021-09-01    PR          Puerto Rico          72    Region 2        Negative   \n",
       "2020-06-13    ME                Maine          23    Region 1    Inconclusive   \n",
       "2021-11-07    WV        West Virginia          54    Region 3        Positive   \n",
       "2021-12-29    ID                Idaho          16   Region 10        Negative   \n",
       "2021-01-24    MH     Marshall Islands          68    Region 9        Negative   \n",
       "2020-11-09    MN            Minnesota          27    Region 5        Negative   \n",
       "2020-12-02    ME                Maine          23    Region 1        Negative   \n",
       "2020-03-25    NC       North Carolina          37    Region 4        Negative   \n",
       "2020-07-09    IN              Indiana          18    Region 5        Negative   \n",
       "2021-10-19    VI  U.S. Virgin Islands          78    Region 2    Inconclusive   \n",
       "2020-12-05    RI         Rhode Island          44    Region 1        Positive   \n",
       "2021-04-13    OR               Oregon          41   Region 10    Inconclusive   \n",
       "2021-08-10    MI             Michigan          26    Region 5        Negative   \n",
       "2021-09-07    MO             Missouri          29    Region 7    Inconclusive   \n",
       "2021-05-09    MA        Massachusetts          25    Region 1    Inconclusive   \n",
       "2021-09-04    MA        Massachusetts          25    Region 1    Inconclusive   \n",
       "2020-10-16    GA              Georgia          13    Region 4        Positive   \n",
       "2021-04-16    DE             Delaware          10    Region 3        Negative   \n",
       "\n",
       "            new_results_reported  total_results_reported  geocoded_state  \n",
       "date                                                                      \n",
       "2021-10-16                  5040                 5196179             NaN  \n",
       "2021-01-04                  1108                  295480             NaN  \n",
       "2021-12-28                  2109                  369541             NaN  \n",
       "2020-12-21                 13065                 2710789             NaN  \n",
       "2021-11-08                    39                   18236             NaN  \n",
       "2021-09-05                 14798                 8610901             NaN  \n",
       "2020-07-07                    37                     997             NaN  \n",
       "2021-09-01                  9180                 1365204             NaN  \n",
       "2020-06-13                     1                     121             NaN  \n",
       "2021-11-07                   497                  312542             NaN  \n",
       "2021-12-29                  4263                 2257036             NaN  \n",
       "2021-01-24                     0                      94             NaN  \n",
       "2020-11-09                 41117                 3570467             NaN  \n",
       "2020-12-02                  9451                  880327             NaN  \n",
       "2020-03-25                  2126                   14232             NaN  \n",
       "2020-07-09                 11021                  834176             NaN  \n",
       "2021-10-19                     0                       6             NaN  \n",
       "2020-12-05                  1102                  101054             NaN  \n",
       "2021-04-13                    20                   70666             NaN  \n",
       "2021-08-10                 23905                13934391             NaN  \n",
       "2021-09-07                    43                   16859             NaN  \n",
       "2021-05-09                    38                   20741             NaN  \n",
       "2021-09-04                   120                   25556             NaN  \n",
       "2020-10-16                  1459                  315063             NaN  \n",
       "2021-04-16                  7633                 1796155             NaN  "
      ]
     },
     "execution_count": 8,
     "metadata": {},
     "output_type": "execute_result"
    }
   ],
   "source": [
    "df.sample(25)"
   ]
  },
  {
   "cell_type": "code",
   "execution_count": 9,
   "metadata": {},
   "outputs": [
    {
     "data": {
      "text/plain": [
       "56"
      ]
     },
     "execution_count": 9,
     "metadata": {},
     "output_type": "execute_result"
    }
   ],
   "source": [
    "df.state_fips.nunique()"
   ]
  },
  {
   "cell_type": "markdown",
   "metadata": {},
   "source": [
    "States plus territories (DC, Puerto Rico, Guam, Northern Mariana Islands, U.S. Virgin Islands, Marshall Islands)"
   ]
  },
  {
   "cell_type": "code",
   "execution_count": 10,
   "metadata": {},
   "outputs": [
    {
     "data": {
      "text/plain": [
       "Washington                  2046\n",
       "Nebraska                    2043\n",
       "Florida                     2040\n",
       "New York                    2039\n",
       "Illinois                    2038\n",
       "Massachusetts               2036\n",
       "Nevada                      2035\n",
       "Idaho                       2034\n",
       "Pennsylvania                2032\n",
       "California                  2032\n",
       "Louisiana                   2032\n",
       "Kansas                      2032\n",
       "Alabama                     2031\n",
       "New Hampshire               2031\n",
       "Ohio                        2031\n",
       "Georgia                     2030\n",
       "North Carolina              2029\n",
       "Colorado                    2028\n",
       "Texas                       2028\n",
       "Tennessee                   2028\n",
       "South Carolina              2027\n",
       "Oregon                      2026\n",
       "Oklahoma                    2026\n",
       "Wisconsin                   2025\n",
       "Missouri                    2024\n",
       "Virginia                    2024\n",
       "Connecticut                 2023\n",
       "New Jersey                  2023\n",
       "Mississippi                 2023\n",
       "Utah                        2023\n",
       "Maine                       2021\n",
       "Kentucky                    2021\n",
       "Indiana                     2019\n",
       "Arizona                     2018\n",
       "Michigan                    2017\n",
       "Alaska                      2012\n",
       "Puerto Rico                 2009\n",
       "Maryland                    2009\n",
       "Hawaii                      2009\n",
       "Montana                     2006\n",
       "North Dakota                2005\n",
       "District of Columbia        2004\n",
       "Delaware                    2003\n",
       "New Mexico                  2000\n",
       "Iowa                        1996\n",
       "Arkansas                    1994\n",
       "Rhode Island                1993\n",
       "West Virginia               1991\n",
       "Vermont                     1989\n",
       "Wyoming                     1977\n",
       "Minnesota                   1968\n",
       "South Dakota                1915\n",
       "Guam                        1824\n",
       "Northern Mariana Islands    1637\n",
       "U.S. Virgin Islands         1626\n",
       "Marshall Islands             709\n",
       "Name: state_name, dtype: int64"
      ]
     },
     "execution_count": 10,
     "metadata": {},
     "output_type": "execute_result"
    }
   ],
   "source": [
    "df.state_name.value_counts()"
   ]
  },
  {
   "cell_type": "markdown",
   "metadata": {},
   "source": [
    "Is there a geographic subdivision finer than state level?\n",
    "\n",
    "There are 10 FEMA regions representing multi-state areas (more course, not fine)\n",
    "\n",
    "![FEMA Regions](fema_regions.png)"
   ]
  },
  {
   "cell_type": "code",
   "execution_count": 11,
   "metadata": {},
   "outputs": [
    {
     "data": {
      "text/html": [
       "<div><div id=dce218a8-5467-47b2-ab9f-bf670e32fff8 style=\"display:none; background-color:#9D6CFF; color:white; width:200px; height:30px; padding-left:5px; border-radius:4px; flex-direction:row; justify-content:space-around; align-items:center;\" onmouseover=\"this.style.backgroundColor='#BA9BF8'\" onmouseout=\"this.style.backgroundColor='#9D6CFF'\" onclick=\"window.commands?.execute('create-mitosheet-from-dataframe-output');\">See Full Dataframe in Mito</div> <script> if (window.commands.hasCommand('create-mitosheet-from-dataframe-output')) document.getElementById('dce218a8-5467-47b2-ab9f-bf670e32fff8').style.display = 'flex' </script> <table border=\"1\" class=\"dataframe\">\n",
       "  <thead>\n",
       "    <tr style=\"text-align: right;\">\n",
       "      <th></th>\n",
       "      <th>state</th>\n",
       "      <th>state_name</th>\n",
       "      <th>state_fips</th>\n",
       "      <th>fema_region</th>\n",
       "      <th>overall_outcome</th>\n",
       "      <th>new_results_reported</th>\n",
       "      <th>total_results_reported</th>\n",
       "      <th>geocoded_state</th>\n",
       "    </tr>\n",
       "    <tr>\n",
       "      <th>date</th>\n",
       "      <th></th>\n",
       "      <th></th>\n",
       "      <th></th>\n",
       "      <th></th>\n",
       "      <th></th>\n",
       "      <th></th>\n",
       "      <th></th>\n",
       "      <th></th>\n",
       "    </tr>\n",
       "  </thead>\n",
       "  <tbody>\n",
       "    <tr>\n",
       "      <th>2020-03-01</th>\n",
       "      <td>AL</td>\n",
       "      <td>Alabama</td>\n",
       "      <td>1</td>\n",
       "      <td>Region 4</td>\n",
       "      <td>Negative</td>\n",
       "      <td>96</td>\n",
       "      <td>96</td>\n",
       "      <td>NaN</td>\n",
       "    </tr>\n",
       "    <tr>\n",
       "      <th>2020-03-01</th>\n",
       "      <td>WA</td>\n",
       "      <td>Washington</td>\n",
       "      <td>53</td>\n",
       "      <td>Region 10</td>\n",
       "      <td>Inconclusive</td>\n",
       "      <td>1</td>\n",
       "      <td>1</td>\n",
       "      <td>NaN</td>\n",
       "    </tr>\n",
       "    <tr>\n",
       "      <th>2020-03-01</th>\n",
       "      <td>AK</td>\n",
       "      <td>Alaska</td>\n",
       "      <td>2</td>\n",
       "      <td>Region 10</td>\n",
       "      <td>Negative</td>\n",
       "      <td>4</td>\n",
       "      <td>4</td>\n",
       "      <td>NaN</td>\n",
       "    </tr>\n",
       "    <tr>\n",
       "      <th>2020-03-01</th>\n",
       "      <td>TN</td>\n",
       "      <td>Tennessee</td>\n",
       "      <td>47</td>\n",
       "      <td>Region 4</td>\n",
       "      <td>Negative</td>\n",
       "      <td>1</td>\n",
       "      <td>1</td>\n",
       "      <td>NaN</td>\n",
       "    </tr>\n",
       "    <tr>\n",
       "      <th>2020-03-01</th>\n",
       "      <td>SC</td>\n",
       "      <td>South Carolina</td>\n",
       "      <td>45</td>\n",
       "      <td>Region 4</td>\n",
       "      <td>Positive</td>\n",
       "      <td>4</td>\n",
       "      <td>4</td>\n",
       "      <td>NaN</td>\n",
       "    </tr>\n",
       "  </tbody>\n",
       "</table></div>"
      ],
      "text/plain": [
       "           state      state_name  state_fips fema_region overall_outcome  \\\n",
       "date                                                                       \n",
       "2020-03-01    AL         Alabama           1    Region 4        Negative   \n",
       "2020-03-01    WA      Washington          53   Region 10    Inconclusive   \n",
       "2020-03-01    AK          Alaska           2   Region 10        Negative   \n",
       "2020-03-01    TN       Tennessee          47    Region 4        Negative   \n",
       "2020-03-01    SC  South Carolina          45    Region 4        Positive   \n",
       "\n",
       "            new_results_reported  total_results_reported  geocoded_state  \n",
       "date                                                                      \n",
       "2020-03-01                    96                      96             NaN  \n",
       "2020-03-01                     1                       1             NaN  \n",
       "2020-03-01                     4                       4             NaN  \n",
       "2020-03-01                     1                       1             NaN  \n",
       "2020-03-01                     4                       4             NaN  "
      ]
     },
     "execution_count": 11,
     "metadata": {},
     "output_type": "execute_result"
    }
   ],
   "source": [
    "df.head()"
   ]
  },
  {
   "cell_type": "code",
   "execution_count": 12,
   "metadata": {},
   "outputs": [
    {
     "data": {
      "text/plain": [
       "state                          0\n",
       "state_name                     0\n",
       "state_fips                     0\n",
       "fema_region                    0\n",
       "overall_outcome                0\n",
       "new_results_reported           0\n",
       "total_results_reported         0\n",
       "geocoded_state            110691\n",
       "dtype: int64"
      ]
     },
     "execution_count": 12,
     "metadata": {},
     "output_type": "execute_result"
    }
   ],
   "source": [
    "# Null value counts\n",
    "\n",
    "df.isna().sum()"
   ]
  },
  {
   "cell_type": "code",
   "execution_count": 13,
   "metadata": {},
   "outputs": [
    {
     "data": {
      "text/plain": [
       "(110691, 8)"
      ]
     },
     "execution_count": 13,
     "metadata": {},
     "output_type": "execute_result"
    }
   ],
   "source": [
    "df.shape"
   ]
  },
  {
   "cell_type": "code",
   "execution_count": 14,
   "metadata": {},
   "outputs": [],
   "source": [
    "texas = df[df['state_name']=='Texas']"
   ]
  },
  {
   "cell_type": "code",
   "execution_count": 15,
   "metadata": {},
   "outputs": [
    {
     "data": {
      "text/html": [
       "<div><div id=b37df837-e576-4fb9-baba-5d116601bab0 style=\"display:none; background-color:#9D6CFF; color:white; width:200px; height:30px; padding-left:5px; border-radius:4px; flex-direction:row; justify-content:space-around; align-items:center;\" onmouseover=\"this.style.backgroundColor='#BA9BF8'\" onmouseout=\"this.style.backgroundColor='#9D6CFF'\" onclick=\"window.commands?.execute('create-mitosheet-from-dataframe-output');\">See Full Dataframe in Mito</div> <script> if (window.commands.hasCommand('create-mitosheet-from-dataframe-output')) document.getElementById('b37df837-e576-4fb9-baba-5d116601bab0').style.display = 'flex' </script> <table border=\"1\" class=\"dataframe\">\n",
       "  <thead>\n",
       "    <tr style=\"text-align: right;\">\n",
       "      <th></th>\n",
       "      <th>state</th>\n",
       "      <th>state_name</th>\n",
       "      <th>state_fips</th>\n",
       "      <th>fema_region</th>\n",
       "      <th>overall_outcome</th>\n",
       "      <th>new_results_reported</th>\n",
       "      <th>total_results_reported</th>\n",
       "      <th>geocoded_state</th>\n",
       "    </tr>\n",
       "    <tr>\n",
       "      <th>date</th>\n",
       "      <th></th>\n",
       "      <th></th>\n",
       "      <th></th>\n",
       "      <th></th>\n",
       "      <th></th>\n",
       "      <th></th>\n",
       "      <th></th>\n",
       "      <th></th>\n",
       "    </tr>\n",
       "  </thead>\n",
       "  <tbody>\n",
       "    <tr>\n",
       "      <th>2020-03-02</th>\n",
       "      <td>TX</td>\n",
       "      <td>Texas</td>\n",
       "      <td>48</td>\n",
       "      <td>Region 6</td>\n",
       "      <td>Negative</td>\n",
       "      <td>2</td>\n",
       "      <td>2</td>\n",
       "      <td>NaN</td>\n",
       "    </tr>\n",
       "    <tr>\n",
       "      <th>2020-03-03</th>\n",
       "      <td>TX</td>\n",
       "      <td>Texas</td>\n",
       "      <td>48</td>\n",
       "      <td>Region 6</td>\n",
       "      <td>Negative</td>\n",
       "      <td>4</td>\n",
       "      <td>6</td>\n",
       "      <td>NaN</td>\n",
       "    </tr>\n",
       "    <tr>\n",
       "      <th>2020-03-04</th>\n",
       "      <td>TX</td>\n",
       "      <td>Texas</td>\n",
       "      <td>48</td>\n",
       "      <td>Region 6</td>\n",
       "      <td>Negative</td>\n",
       "      <td>10</td>\n",
       "      <td>16</td>\n",
       "      <td>NaN</td>\n",
       "    </tr>\n",
       "    <tr>\n",
       "      <th>2020-03-05</th>\n",
       "      <td>TX</td>\n",
       "      <td>Texas</td>\n",
       "      <td>48</td>\n",
       "      <td>Region 6</td>\n",
       "      <td>Positive</td>\n",
       "      <td>1</td>\n",
       "      <td>1</td>\n",
       "      <td>NaN</td>\n",
       "    </tr>\n",
       "    <tr>\n",
       "      <th>2020-03-05</th>\n",
       "      <td>TX</td>\n",
       "      <td>Texas</td>\n",
       "      <td>48</td>\n",
       "      <td>Region 6</td>\n",
       "      <td>Negative</td>\n",
       "      <td>10</td>\n",
       "      <td>26</td>\n",
       "      <td>NaN</td>\n",
       "    </tr>\n",
       "  </tbody>\n",
       "</table></div>"
      ],
      "text/plain": [
       "           state state_name  state_fips fema_region overall_outcome  \\\n",
       "date                                                                  \n",
       "2020-03-02    TX      Texas          48    Region 6        Negative   \n",
       "2020-03-03    TX      Texas          48    Region 6        Negative   \n",
       "2020-03-04    TX      Texas          48    Region 6        Negative   \n",
       "2020-03-05    TX      Texas          48    Region 6        Positive   \n",
       "2020-03-05    TX      Texas          48    Region 6        Negative   \n",
       "\n",
       "            new_results_reported  total_results_reported  geocoded_state  \n",
       "date                                                                      \n",
       "2020-03-02                     2                       2             NaN  \n",
       "2020-03-03                     4                       6             NaN  \n",
       "2020-03-04                    10                      16             NaN  \n",
       "2020-03-05                     1                       1             NaN  \n",
       "2020-03-05                    10                      26             NaN  "
      ]
     },
     "execution_count": 15,
     "metadata": {},
     "output_type": "execute_result"
    }
   ],
   "source": [
    "texas.head()"
   ]
  },
  {
   "cell_type": "code",
   "execution_count": 16,
   "metadata": {},
   "outputs": [],
   "source": [
    "df=texas"
   ]
  },
  {
   "cell_type": "code",
   "execution_count": 17,
   "metadata": {},
   "outputs": [
    {
     "name": "stdout",
     "output_type": "stream",
     "text": [
      "Date Range: 2020-03-02 00:00:00 to 2022-01-11 00:00:00\n",
      "Shape: (2028, 8)\n"
     ]
    }
   ],
   "source": [
    "print('Date Range:', df.index.min(), 'to', df.index.max())\n",
    "print('Shape:', df.shape)"
   ]
  },
  {
   "cell_type": "code",
   "execution_count": 18,
   "metadata": {},
   "outputs": [
    {
     "data": {
      "text/plain": [
       "[<matplotlib.lines.Line2D at 0x7fd8f869e1c0>]"
      ]
     },
     "execution_count": 18,
     "metadata": {},
     "output_type": "execute_result"
    },
    {
     "data": {
      "image/png": "[encoded data removed]",
      "text/plain": [
       "<Figure size 936x504 with 1 Axes>"
      ]
     },
     "metadata": {},
     "output_type": "display_data"
    }
   ],
   "source": [
    "plt.plot(df.index, df.total_results_reported)"
   ]
  },
  {
   "cell_type": "code",
   "execution_count": 19,
   "metadata": {},
   "outputs": [
    {
     "data": {
      "text/html": [
       "<div><div id=7a66c331-2855-4df9-821d-c091bc976b6a style=\"display:none; background-color:#9D6CFF; color:white; width:200px; height:30px; padding-left:5px; border-radius:4px; flex-direction:row; justify-content:space-around; align-items:center;\" onmouseover=\"this.style.backgroundColor='#BA9BF8'\" onmouseout=\"this.style.backgroundColor='#9D6CFF'\" onclick=\"window.commands?.execute('create-mitosheet-from-dataframe-output');\">See Full Dataframe in Mito</div> <script> if (window.commands.hasCommand('create-mitosheet-from-dataframe-output')) document.getElementById('7a66c331-2855-4df9-821d-c091bc976b6a').style.display = 'flex' </script> <table border=\"1\" class=\"dataframe\">\n",
       "  <thead>\n",
       "    <tr style=\"text-align: right;\">\n",
       "      <th></th>\n",
       "      <th>state</th>\n",
       "      <th>state_name</th>\n",
       "      <th>state_fips</th>\n",
       "      <th>fema_region</th>\n",
       "      <th>overall_outcome</th>\n",
       "      <th>new_results_reported</th>\n",
       "      <th>total_results_reported</th>\n",
       "      <th>geocoded_state</th>\n",
       "    </tr>\n",
       "    <tr>\n",
       "      <th>date</th>\n",
       "      <th></th>\n",
       "      <th></th>\n",
       "      <th></th>\n",
       "      <th></th>\n",
       "      <th></th>\n",
       "      <th></th>\n",
       "      <th></th>\n",
       "      <th></th>\n",
       "    </tr>\n",
       "  </thead>\n",
       "  <tbody>\n",
       "    <tr>\n",
       "      <th>2020-03-02</th>\n",
       "      <td>TX</td>\n",
       "      <td>Texas</td>\n",
       "      <td>48</td>\n",
       "      <td>Region 6</td>\n",
       "      <td>Negative</td>\n",
       "      <td>2</td>\n",
       "      <td>2</td>\n",
       "      <td>NaN</td>\n",
       "    </tr>\n",
       "    <tr>\n",
       "      <th>2020-03-03</th>\n",
       "      <td>TX</td>\n",
       "      <td>Texas</td>\n",
       "      <td>48</td>\n",
       "      <td>Region 6</td>\n",
       "      <td>Negative</td>\n",
       "      <td>4</td>\n",
       "      <td>6</td>\n",
       "      <td>NaN</td>\n",
       "    </tr>\n",
       "    <tr>\n",
       "      <th>2020-03-04</th>\n",
       "      <td>TX</td>\n",
       "      <td>Texas</td>\n",
       "      <td>48</td>\n",
       "      <td>Region 6</td>\n",
       "      <td>Negative</td>\n",
       "      <td>10</td>\n",
       "      <td>16</td>\n",
       "      <td>NaN</td>\n",
       "    </tr>\n",
       "    <tr>\n",
       "      <th>2020-03-05</th>\n",
       "      <td>TX</td>\n",
       "      <td>Texas</td>\n",
       "      <td>48</td>\n",
       "      <td>Region 6</td>\n",
       "      <td>Positive</td>\n",
       "      <td>1</td>\n",
       "      <td>1</td>\n",
       "      <td>NaN</td>\n",
       "    </tr>\n",
       "    <tr>\n",
       "      <th>2020-03-05</th>\n",
       "      <td>TX</td>\n",
       "      <td>Texas</td>\n",
       "      <td>48</td>\n",
       "      <td>Region 6</td>\n",
       "      <td>Negative</td>\n",
       "      <td>10</td>\n",
       "      <td>26</td>\n",
       "      <td>NaN</td>\n",
       "    </tr>\n",
       "  </tbody>\n",
       "</table></div>"
      ],
      "text/plain": [
       "           state state_name  state_fips fema_region overall_outcome  \\\n",
       "date                                                                  \n",
       "2020-03-02    TX      Texas          48    Region 6        Negative   \n",
       "2020-03-03    TX      Texas          48    Region 6        Negative   \n",
       "2020-03-04    TX      Texas          48    Region 6        Negative   \n",
       "2020-03-05    TX      Texas          48    Region 6        Positive   \n",
       "2020-03-05    TX      Texas          48    Region 6        Negative   \n",
       "\n",
       "            new_results_reported  total_results_reported  geocoded_state  \n",
       "date                                                                      \n",
       "2020-03-02                     2                       2             NaN  \n",
       "2020-03-03                     4                       6             NaN  \n",
       "2020-03-04                    10                      16             NaN  \n",
       "2020-03-05                     1                       1             NaN  \n",
       "2020-03-05                    10                      26             NaN  "
      ]
     },
     "execution_count": 19,
     "metadata": {},
     "output_type": "execute_result"
    }
   ],
   "source": [
    "texas.head()"
   ]
  },
  {
   "cell_type": "code",
   "execution_count": 20,
   "metadata": {},
   "outputs": [
    {
     "data": {
      "text/plain": [
       "[<matplotlib.lines.Line2D at 0x7fd919c8e460>]"
      ]
     },
     "execution_count": 20,
     "metadata": {},
     "output_type": "execute_result"
    },
    {
     "data": {
      "image/png": "[encoded data removed]",
      "text/plain": [
       "<Figure size 936x504 with 1 Axes>"
      ]
     },
     "metadata": {},
     "output_type": "display_data"
    }
   ],
   "source": [
    "plt.plot(df.index, df.new_results_reported)"
   ]
  },
  {
   "cell_type": "code",
   "execution_count": null,
   "metadata": {},
   "outputs": [],
   "source": []
  }
 ],
 "metadata": {
  "interpreter": {
   "hash": "38cca0c38332a56087b24af0bc80247f4fced29cb4f7f437d91dc159adec9c4e"
  },
  "kernelspec": {
   "display_name": "Python 3.8.12 64-bit ('base': conda)",
   "language": "python",
   "name": "python3"
  },
  "language_info": {
   "codemirror_mode": {
    "name": "ipython",
    "version": 3
   },
   "file_extension": ".py",
   "mimetype": "text/x-python",
   "name": "python",
   "nbconvert_exporter": "python",
   "pygments_lexer": "ipython3",
   "version": "3.8.12"
  },
  "orig_nbformat": 4
 },
 "nbformat": 4,
 "nbformat_minor": 2
}
